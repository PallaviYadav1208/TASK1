{
  "nbformat": 4,
  "nbformat_minor": 0,
  "metadata": {
    "colab": {
      "name": "move recommendation.ipynb",
      "provenance": [],
      "collapsed_sections": [],
      "authorship_tag": "ABX9TyMm/q4s0d7gWHXeYBqGMHGA",
      "include_colab_link": true
    },
    "kernelspec": {
      "name": "python3",
      "display_name": "Python 3"
    },
    "language_info": {
      "name": "python"
    }
  },
  "cells": [
    {
      "cell_type": "markdown",
      "metadata": {
        "id": "view-in-github",
        "colab_type": "text"
      },
      "source": [
        "<a href=\"https://colab.research.google.com/github/PallaviYadav1208/TASK1/blob/main/medicine_recommendation.ipynb\" target=\"_parent\"><img src=\"https://colab.research.google.com/assets/colab-badge.svg\" alt=\"Open In Colab\"/></a>"
      ]
    },
    {
      "cell_type": "code",
      "execution_count": 2,
      "metadata": {
        "id": "RSlbqZzoidvs"
      },
      "outputs": [],
      "source": [
        "import numpy as np\n",
        "import pandas as pd\n",
        "import difflib\n",
        "from sklearn.feature_extraction.text import TfidfVectorizer\n",
        "from sklearn.metrics.pairwise import cosine_similarity"
      ]
    },
    {
      "cell_type": "code",
      "source": [
        "# loading the data from the csv file to apandas dataframe\n",
        "movies_data = pd.read_csv('/content/Medicine_details.csv')"
      ],
      "metadata": {
        "id": "ozXJd9vwqoRh"
      },
      "execution_count": 3,
      "outputs": []
    },
    {
      "cell_type": "code",
      "source": [
        "# printing the first 5 rows of the dataframe\n",
        "movies_data.head()"
      ],
      "metadata": {
        "colab": {
          "base_uri": "https://localhost:8080/",
          "height": 206
        },
        "id": "OpGlr7frqv4g",
        "outputId": "4becb5fa-d667-4666-a4c7-b24e4890daf2"
      },
      "execution_count": 4,
      "outputs": [
        {
          "output_type": "execute_result",
          "data": {
            "text/plain": [
              "   index               MedicineName                 Composition Manufacturer  \\\n",
              "0      1  Atrest 12.5mg Tablet 10'S      TETRABENAZINE 12.5MG           ADHD   \n",
              "1      2    Atrest 25mg Tablet 10'S        TETRABENAZINE 25MG           ADHD   \n",
              "2      3       Capnea Injection 1ml    Caffeine Citrate 20 MG           ADHD   \n",
              "3      4       COGNIX + Tablet 10's      GINKGO BILOBA 120 mg           ADHD   \n",
              "4      5      NOR 4mg Injection 2ml        NOREPINEPHRINE 4MG           ADHD   \n",
              "\n",
              "      MRP Best Price  \n",
              "0  154.04     123.23  \n",
              "1  261.49     209.19  \n",
              "2  277.38     249.64  \n",
              "3     117       93.6  \n",
              "4      56       50.4  "
            ],
            "text/html": [
              "\n",
              "  <div id=\"df-58b2bf0b-2ede-411a-b6be-005d1bc1585c\">\n",
              "    <div class=\"colab-df-container\">\n",
              "      <div>\n",
              "<style scoped>\n",
              "    .dataframe tbody tr th:only-of-type {\n",
              "        vertical-align: middle;\n",
              "    }\n",
              "\n",
              "    .dataframe tbody tr th {\n",
              "        vertical-align: top;\n",
              "    }\n",
              "\n",
              "    .dataframe thead th {\n",
              "        text-align: right;\n",
              "    }\n",
              "</style>\n",
              "<table border=\"1\" class=\"dataframe\">\n",
              "  <thead>\n",
              "    <tr style=\"text-align: right;\">\n",
              "      <th></th>\n",
              "      <th>index</th>\n",
              "      <th>MedicineName</th>\n",
              "      <th>Composition</th>\n",
              "      <th>Manufacturer</th>\n",
              "      <th>MRP</th>\n",
              "      <th>Best Price</th>\n",
              "    </tr>\n",
              "  </thead>\n",
              "  <tbody>\n",
              "    <tr>\n",
              "      <th>0</th>\n",
              "      <td>1</td>\n",
              "      <td>Atrest 12.5mg Tablet 10'S</td>\n",
              "      <td>TETRABENAZINE 12.5MG</td>\n",
              "      <td>ADHD</td>\n",
              "      <td>154.04</td>\n",
              "      <td>123.23</td>\n",
              "    </tr>\n",
              "    <tr>\n",
              "      <th>1</th>\n",
              "      <td>2</td>\n",
              "      <td>Atrest 25mg Tablet 10'S</td>\n",
              "      <td>TETRABENAZINE 25MG</td>\n",
              "      <td>ADHD</td>\n",
              "      <td>261.49</td>\n",
              "      <td>209.19</td>\n",
              "    </tr>\n",
              "    <tr>\n",
              "      <th>2</th>\n",
              "      <td>3</td>\n",
              "      <td>Capnea Injection 1ml</td>\n",
              "      <td>Caffeine Citrate 20 MG</td>\n",
              "      <td>ADHD</td>\n",
              "      <td>277.38</td>\n",
              "      <td>249.64</td>\n",
              "    </tr>\n",
              "    <tr>\n",
              "      <th>3</th>\n",
              "      <td>4</td>\n",
              "      <td>COGNIX + Tablet 10's</td>\n",
              "      <td>GINKGO BILOBA 120 mg</td>\n",
              "      <td>ADHD</td>\n",
              "      <td>117</td>\n",
              "      <td>93.6</td>\n",
              "    </tr>\n",
              "    <tr>\n",
              "      <th>4</th>\n",
              "      <td>5</td>\n",
              "      <td>NOR 4mg Injection 2ml</td>\n",
              "      <td>NOREPINEPHRINE 4MG</td>\n",
              "      <td>ADHD</td>\n",
              "      <td>56</td>\n",
              "      <td>50.4</td>\n",
              "    </tr>\n",
              "  </tbody>\n",
              "</table>\n",
              "</div>\n",
              "      <button class=\"colab-df-convert\" onclick=\"convertToInteractive('df-58b2bf0b-2ede-411a-b6be-005d1bc1585c')\"\n",
              "              title=\"Convert this dataframe to an interactive table.\"\n",
              "              style=\"display:none;\">\n",
              "        \n",
              "  <svg xmlns=\"http://www.w3.org/2000/svg\" height=\"24px\"viewBox=\"0 0 24 24\"\n",
              "       width=\"24px\">\n",
              "    <path d=\"M0 0h24v24H0V0z\" fill=\"none\"/>\n",
              "    <path d=\"M18.56 5.44l.94 2.06.94-2.06 2.06-.94-2.06-.94-.94-2.06-.94 2.06-2.06.94zm-11 1L8.5 8.5l.94-2.06 2.06-.94-2.06-.94L8.5 2.5l-.94 2.06-2.06.94zm10 10l.94 2.06.94-2.06 2.06-.94-2.06-.94-.94-2.06-.94 2.06-2.06.94z\"/><path d=\"M17.41 7.96l-1.37-1.37c-.4-.4-.92-.59-1.43-.59-.52 0-1.04.2-1.43.59L10.3 9.45l-7.72 7.72c-.78.78-.78 2.05 0 2.83L4 21.41c.39.39.9.59 1.41.59.51 0 1.02-.2 1.41-.59l7.78-7.78 2.81-2.81c.8-.78.8-2.07 0-2.86zM5.41 20L4 18.59l7.72-7.72 1.47 1.35L5.41 20z\"/>\n",
              "  </svg>\n",
              "      </button>\n",
              "      \n",
              "  <style>\n",
              "    .colab-df-container {\n",
              "      display:flex;\n",
              "      flex-wrap:wrap;\n",
              "      gap: 12px;\n",
              "    }\n",
              "\n",
              "    .colab-df-convert {\n",
              "      background-color: #E8F0FE;\n",
              "      border: none;\n",
              "      border-radius: 50%;\n",
              "      cursor: pointer;\n",
              "      display: none;\n",
              "      fill: #1967D2;\n",
              "      height: 32px;\n",
              "      padding: 0 0 0 0;\n",
              "      width: 32px;\n",
              "    }\n",
              "\n",
              "    .colab-df-convert:hover {\n",
              "      background-color: #E2EBFA;\n",
              "      box-shadow: 0px 1px 2px rgba(60, 64, 67, 0.3), 0px 1px 3px 1px rgba(60, 64, 67, 0.15);\n",
              "      fill: #174EA6;\n",
              "    }\n",
              "\n",
              "    [theme=dark] .colab-df-convert {\n",
              "      background-color: #3B4455;\n",
              "      fill: #D2E3FC;\n",
              "    }\n",
              "\n",
              "    [theme=dark] .colab-df-convert:hover {\n",
              "      background-color: #434B5C;\n",
              "      box-shadow: 0px 1px 3px 1px rgba(0, 0, 0, 0.15);\n",
              "      filter: drop-shadow(0px 1px 2px rgba(0, 0, 0, 0.3));\n",
              "      fill: #FFFFFF;\n",
              "    }\n",
              "  </style>\n",
              "\n",
              "      <script>\n",
              "        const buttonEl =\n",
              "          document.querySelector('#df-58b2bf0b-2ede-411a-b6be-005d1bc1585c button.colab-df-convert');\n",
              "        buttonEl.style.display =\n",
              "          google.colab.kernel.accessAllowed ? 'block' : 'none';\n",
              "\n",
              "        async function convertToInteractive(key) {\n",
              "          const element = document.querySelector('#df-58b2bf0b-2ede-411a-b6be-005d1bc1585c');\n",
              "          const dataTable =\n",
              "            await google.colab.kernel.invokeFunction('convertToInteractive',\n",
              "                                                     [key], {});\n",
              "          if (!dataTable) return;\n",
              "\n",
              "          const docLinkHtml = 'Like what you see? Visit the ' +\n",
              "            '<a target=\"_blank\" href=https://colab.research.google.com/notebooks/data_table.ipynb>data table notebook</a>'\n",
              "            + ' to learn more about interactive tables.';\n",
              "          element.innerHTML = '';\n",
              "          dataTable['output_type'] = 'display_data';\n",
              "          await google.colab.output.renderOutput(dataTable, element);\n",
              "          const docLink = document.createElement('div');\n",
              "          docLink.innerHTML = docLinkHtml;\n",
              "          element.appendChild(docLink);\n",
              "        }\n",
              "      </script>\n",
              "    </div>\n",
              "  </div>\n",
              "  "
            ]
          },
          "metadata": {},
          "execution_count": 4
        }
      ]
    },
    {
      "cell_type": "code",
      "source": [
        "# number of rows and columns in the data frame\n",
        "\n",
        "movies_data.shape"
      ],
      "metadata": {
        "colab": {
          "base_uri": "https://localhost:8080/"
        },
        "id": "9YqFsJpdq9nT",
        "outputId": "87d6f26a-f2f1-452c-a42c-ec8aee0945f6"
      },
      "execution_count": 5,
      "outputs": [
        {
          "output_type": "execute_result",
          "data": {
            "text/plain": [
              "(27445, 6)"
            ]
          },
          "metadata": {},
          "execution_count": 5
        }
      ]
    },
    {
      "cell_type": "code",
      "source": [
        "# selecting the relevant features for recommendation\n",
        "\n",
        "selected_features = ['MedicineName','Composition','Manufacturer']\n",
        "print(selected_features)"
      ],
      "metadata": {
        "colab": {
          "base_uri": "https://localhost:8080/"
        },
        "id": "3FrI72KXq_z1",
        "outputId": "248d4dd1-c9bc-4145-d83f-f95e5b3b12b6"
      },
      "execution_count": 6,
      "outputs": [
        {
          "output_type": "stream",
          "name": "stdout",
          "text": [
            "['MedicineName', 'Composition', 'Manufacturer']\n"
          ]
        }
      ]
    },
    {
      "cell_type": "code",
      "source": [
        "# replacing the null valuess with null string\n",
        "\n",
        "for feature in selected_features:\n",
        "  movies_data[feature] = movies_data[feature].fillna('')"
      ],
      "metadata": {
        "id": "R5sjtwTZrCMc"
      },
      "execution_count": 7,
      "outputs": []
    },
    {
      "cell_type": "code",
      "source": [
        "# combining all the 5 selected features\n",
        "\n",
        "combined_features = movies_data['MedicineName']+' '+movies_data['Composition']+' '+movies_data['Manufacturer']"
      ],
      "metadata": {
        "id": "axj7_YiPrDUY"
      },
      "execution_count": 8,
      "outputs": []
    },
    {
      "cell_type": "code",
      "source": [
        "print(combined_features)"
      ],
      "metadata": {
        "colab": {
          "base_uri": "https://localhost:8080/"
        },
        "id": "H2bhPurBrHvn",
        "outputId": "b838e933-f46a-425c-a250-538709e84b53"
      },
      "execution_count": 9,
      "outputs": [
        {
          "output_type": "stream",
          "name": "stdout",
          "text": [
            "0        Atrest 12.5mg Tablet 10'S   TETRABENAZINE 12.5...\n",
            "1        Atrest 25mg Tablet 10'S   TETRABENAZINE 25MG  ...\n",
            "2        Capnea Injection 1ml   Caffeine Citrate 20 MG ...\n",
            "3        COGNIX + Tablet 10's   GINKGO BILOBA 120 mg   ...\n",
            "4        NOR 4mg Injection 2ml   NOREPINEPHRINE 4MG   ADHD\n",
            "                               ...                        \n",
            "27440    Clearvital Cream 30gm   SKIN CARE PREPARATION ...\n",
            "27441    DS GOLD ANTI AGEING Cream 50gm   SKINCARE PREP...\n",
            "27442    Nt Age Cream 50gm   ALLANTOIN+ALOE VERA+MAGNES...\n",
            "27443    Versa Gel 30gm   DICLOFENAC 1.16 %+LINSEED OIL...\n",
            "27444    Wunder Eye Advanced Cream 15gm   Cosmetics   W...\n",
            "Length: 27445, dtype: object\n"
          ]
        }
      ]
    },
    {
      "cell_type": "code",
      "source": [
        "# converting the text data to feature vectors\n",
        "\n",
        "vectorizer = TfidfVectorizer()"
      ],
      "metadata": {
        "id": "tEMbEOvVrJ8o"
      },
      "execution_count": 10,
      "outputs": []
    },
    {
      "cell_type": "code",
      "source": [
        "feature_vectors = vectorizer.fit_transform(combined_features)"
      ],
      "metadata": {
        "id": "kbQf0F8GrO8o"
      },
      "execution_count": 11,
      "outputs": []
    },
    {
      "cell_type": "code",
      "source": [
        "print(feature_vectors)"
      ],
      "metadata": {
        "colab": {
          "base_uri": "https://localhost:8080/"
        },
        "id": "k9oO8vPjrSJc",
        "outputId": "e1095f30-ab5d-4242-b3a2-66078cf62508"
      },
      "execution_count": 12,
      "outputs": [
        {
          "output_type": "stream",
          "name": "stdout",
          "text": [
            "  (0, 1211)\t0.4420181779980559\n",
            "  (0, 15543)\t0.4505658650925616\n",
            "  (0, 71)\t0.0807657912130116\n",
            "  (0, 15332)\t0.07977003197544164\n",
            "  (0, 727)\t0.3307898884074934\n",
            "  (0, 146)\t0.5041208866784507\n",
            "  (0, 2240)\t0.47451463817561473\n",
            "  (1, 406)\t0.483950624676473\n",
            "  (1, 1211)\t0.4848603699134928\n",
            "  (1, 15543)\t0.49423653345798174\n",
            "  (1, 71)\t0.08859393878608532\n",
            "  (1, 15332)\t0.08750166653054231\n",
            "  (1, 2240)\t0.520506518616996\n",
            "  (2, 10930)\t0.11935216299228481\n",
            "  (2, 318)\t0.23925063658384133\n",
            "  (2, 4105)\t0.29427659097860737\n",
            "  (2, 3298)\t0.3930655552015865\n",
            "  (2, 310)\t0.2923698047421842\n",
            "  (2, 8949)\t0.18356218522436346\n",
            "  (2, 3478)\t0.5515813819774021\n",
            "  (2, 1211)\t0.5138071154489208\n",
            "  (3, 147)\t0.3247662279235547\n",
            "  (3, 2826)\t0.4110724028586446\n",
            "  (3, 7889)\t0.40655447366570474\n",
            "  (3, 4401)\t0.525416845377065\n",
            "  :\t:\n",
            "  (27442, 16502)\t0.21301994374512012\n",
            "  (27442, 1519)\t0.21036166758534156\n",
            "  (27443, 16519)\t0.4204473409923962\n",
            "  (27443, 14425)\t0.24991326860932694\n",
            "  (27443, 9977)\t0.27261529757460035\n",
            "  (27443, 16807)\t0.3603736597366885\n",
            "  (27443, 1296)\t0.3427266157842747\n",
            "  (27443, 5341)\t0.20984082870680273\n",
            "  (27443, 245)\t0.2741226671013194\n",
            "  (27443, 10782)\t0.22307541557699706\n",
            "  (27443, 10879)\t0.23198789215875268\n",
            "  (27443, 1855)\t0.2910927363410295\n",
            "  (27443, 12192)\t0.2227911399865182\n",
            "  (27443, 475)\t0.20298781624021964\n",
            "  (27443, 7780)\t0.18987063325635015\n",
            "  (27443, 71)\t0.06880672989200458\n",
            "  (27444, 16809)\t0.46092240516677885\n",
            "  (27444, 16807)\t0.39506563084101615\n",
            "  (27444, 4642)\t0.3698730265726033\n",
            "  (27444, 1296)\t0.3757197647845638\n",
            "  (27444, 1255)\t0.36471583797629104\n",
            "  (27444, 6733)\t0.19491036790202418\n",
            "  (27444, 1855)\t0.3191152638620512\n",
            "  (27444, 4691)\t0.17911237115865\n",
            "  (27444, 237)\t0.22040598719055923\n"
          ]
        }
      ]
    },
    {
      "cell_type": "code",
      "source": [
        "# getting the similarity scores using cosine similarity\n",
        "\n",
        "similarity = cosine_similarity(feature_vectors)\n",
        "print(similarity)"
      ],
      "metadata": {
        "colab": {
          "base_uri": "https://localhost:8080/"
        },
        "id": "C8kjl639rUbb",
        "outputId": "93392970-8e94-4e88-ed80-250b8729748c"
      },
      "execution_count": 13,
      "outputs": [
        {
          "output_type": "stream",
          "name": "stdout",
          "text": [
            "[[1.         0.69812654 0.22711209 ... 0.         0.00555723 0.        ]\n",
            " [0.69812654 1.         0.24912471 ... 0.         0.00609586 0.        ]\n",
            " [0.22711209 0.24912471 1.         ... 0.         0.         0.        ]\n",
            " ...\n",
            " [0.         0.         0.         ... 1.         0.28013436 0.33178947]\n",
            " [0.00555723 0.00609586 0.         ... 0.28013436 1.         0.36403255]\n",
            " [0.         0.         0.         ... 0.33178947 0.36403255 1.        ]]\n"
          ]
        }
      ]
    },
    {
      "cell_type": "code",
      "source": [
        "print(similarity.shape)"
      ],
      "metadata": {
        "colab": {
          "base_uri": "https://localhost:8080/"
        },
        "id": "9_19jslprY1f",
        "outputId": "8f8b7614-c3fd-433c-99f2-e9e62e736419"
      },
      "execution_count": 14,
      "outputs": [
        {
          "output_type": "stream",
          "name": "stdout",
          "text": [
            "(27445, 27445)\n"
          ]
        }
      ]
    },
    {
      "cell_type": "code",
      "source": [
        "movie_name = input(' Enter your favourite movie name : ')\n",
        "\n",
        "list_of_all_titles = movies_data['MedicineName'].tolist()\n",
        "\n",
        "find_close_match = difflib.get_close_matches(movie_name, list_of_all_titles)\n",
        "\n",
        "close_match = find_close_match[0]\n",
        "\n",
        "index_of_the_movie = movies_data[movies_data.MedicineName==close_match]['index'].values[0]\n",
        "\n",
        "similarity_score = list(enumerate(similarity[index_of_the_movie]))\n",
        "\n",
        "sorted_similar_movies = sorted(similarity_score, key = lambda x:x[1], reverse = True) \n",
        "\n",
        "print('Movies suggested for you : \\n')\n",
        "\n",
        "i = 1\n",
        "\n",
        "for movie in sorted_similar_movies:\n",
        "  index = movie[0]\n",
        "  title_from_index = movies_data[movies_data.index==index]['MedicineName'].values[0]\n",
        "  if (i<30):\n",
        "    print(i, '.',title_from_index)\n",
        "    i+=1"
      ],
      "metadata": {
        "colab": {
          "base_uri": "https://localhost:8080/"
        },
        "id": "2Lq4JWzdrgIo",
        "outputId": "e8acd8cd-ffa8-42ed-b733-93e30821eedd"
      },
      "execution_count": 18,
      "outputs": [
        {
          "output_type": "stream",
          "name": "stdout",
          "text": [
            " Enter your favourite movie name : JETTA 12mg Tablet 2's\n",
            "Movies suggested for you : \n",
            "\n",
            "1 . KRIMFRE Syrup 10ml\n",
            "2 . KRIMFRE Tablet 10's\n",
            "3 . PINBAN Suspension 10ml\n",
            "4 . ODIMECTIN Suspension 10ml\n",
            "5 . KRIMFRE AL 400mg Tablet 10's\n",
            "6 . WORMKO PLUS Oral Suspension 10ml\n",
            "7 . AL Suspension 10ml\n",
            "8 . Itin A Suspension 10ml\n",
            "9 . ABLAZE IM Oral Suspension 10ml\n",
            "10 . BANDY Suspension 10ml\n",
            "11 . ALBESTAR I Tablet 10's\n",
            "12 . EXYT Suspension 10ml\n",
            "13 . ALBESTAR 200 Oral Suspension 10ml\n",
            "14 . TROYZOLE Suspension 10ml\n",
            "15 . Evimectina Suspension 10ml\n",
            "16 . Bandy Plus Suspension 10ml\n",
            "17 . ABD PLUS Tablet 1's\n",
            "18 . WORMKO PLUS Tablet 1's\n",
            "19 . ALGED PLUS Tablet 1's\n",
            "20 . IVERHOPE PLUS 6 Tablet 1's\n",
            "21 . XEROWORM Oral Suspension 10ml\n",
            "22 . ALTEC 200mg Suspension 10ml\n",
            "23 . VORMOUT 200mg Suspension 10ml\n",
            "24 . EVIMECTIN A Tablet 1's\n",
            "25 . PINBAN Chewable Tablet 6's\n",
            "26 . Anthel UP Suspension 10ml\n",
            "27 . Ivoral Tablet 1's\n",
            "28 . IVERFAST 6A Tablet 1's\n",
            "29 . VERMACT 6 Tablet 4's\n"
          ]
        }
      ]
    }
  ]
}